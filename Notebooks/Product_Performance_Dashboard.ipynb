{
 "cells": [
  {
   "cell_type": "code",
   "execution_count": 8,
   "id": "2f250a20-de4e-404b-aa99-61bc2183a059",
   "metadata": {},
   "outputs": [
    {
     "name": "stderr",
     "output_type": "stream",
     "text": [
      "C:\\Users\\feder\\anaconda3\\Lib\\site-packages\\dash\\dash.py:579: UserWarning:\n",
      "\n",
      "JupyterDash is deprecated, use Dash instead.\n",
      "See https://dash.plotly.com/dash-in-jupyter for more details.\n",
      "\n"
     ]
    },
    {
     "ename": "TypeError",
     "evalue": "'NoneType' object cannot be interpreted as an integer",
     "output_type": "error",
     "traceback": [
      "\u001b[1;31m---------------------------------------------------------------------------\u001b[0m",
      "\u001b[1;31mTypeError\u001b[0m                                 Traceback (most recent call last)",
      "Cell \u001b[1;32mIn[8], line 69\u001b[0m\n\u001b[0;32m     66\u001b[0m     \u001b[38;5;28;01mreturn\u001b[39;00m filtered_df\u001b[38;5;241m.\u001b[39mto_dict(\u001b[38;5;124m'\u001b[39m\u001b[38;5;124mrecords\u001b[39m\u001b[38;5;124m'\u001b[39m), fig\n\u001b[0;32m     68\u001b[0m \u001b[38;5;66;03m# Run app in notebook\u001b[39;00m\n\u001b[1;32m---> 69\u001b[0m app\u001b[38;5;241m.\u001b[39mrun_server(mode\u001b[38;5;241m=\u001b[39m\u001b[38;5;124m'\u001b[39m\u001b[38;5;124minline\u001b[39m\u001b[38;5;124m'\u001b[39m, debug\u001b[38;5;241m=\u001b[39m\u001b[38;5;28;01mTrue\u001b[39;00m)\n",
      "File \u001b[1;32m~\\anaconda3\\Lib\\site-packages\\jupyter_dash\\jupyter_app.py:222\u001b[0m, in \u001b[0;36mJupyterDash.run_server\u001b[1;34m(self, mode, width, height, inline_exceptions, **kwargs)\u001b[0m\n\u001b[0;32m    220\u001b[0m old_server \u001b[38;5;241m=\u001b[39m \u001b[38;5;28mself\u001b[39m\u001b[38;5;241m.\u001b[39m_server_threads\u001b[38;5;241m.\u001b[39mget((host, port))\n\u001b[0;32m    221\u001b[0m \u001b[38;5;28;01mif\u001b[39;00m old_server:\n\u001b[1;32m--> 222\u001b[0m     old_server\u001b[38;5;241m.\u001b[39mkill()\n\u001b[0;32m    223\u001b[0m     old_server\u001b[38;5;241m.\u001b[39mjoin()\n\u001b[0;32m    224\u001b[0m     \u001b[38;5;28;01mdel\u001b[39;00m \u001b[38;5;28mself\u001b[39m\u001b[38;5;241m.\u001b[39m_server_threads[(host, port)]\n",
      "File \u001b[1;32m~\\anaconda3\\Lib\\site-packages\\jupyter_dash\\_stoppable_thread.py:16\u001b[0m, in \u001b[0;36mStoppableThread.kill\u001b[1;34m(self)\u001b[0m\n\u001b[0;32m     13\u001b[0m \u001b[38;5;28;01mdef\u001b[39;00m \u001b[38;5;21mkill\u001b[39m(\u001b[38;5;28mself\u001b[39m):\n\u001b[0;32m     14\u001b[0m     thread_id \u001b[38;5;241m=\u001b[39m \u001b[38;5;28mself\u001b[39m\u001b[38;5;241m.\u001b[39mget_id()\n\u001b[0;32m     15\u001b[0m     res \u001b[38;5;241m=\u001b[39m ctypes\u001b[38;5;241m.\u001b[39mpythonapi\u001b[38;5;241m.\u001b[39mPyThreadState_SetAsyncExc(\n\u001b[1;32m---> 16\u001b[0m         ctypes\u001b[38;5;241m.\u001b[39mc_long(thread_id), ctypes\u001b[38;5;241m.\u001b[39mpy_object(\u001b[38;5;167;01mSystemExit\u001b[39;00m)\n\u001b[0;32m     17\u001b[0m     )\n\u001b[0;32m     18\u001b[0m     \u001b[38;5;28;01mif\u001b[39;00m res \u001b[38;5;241m==\u001b[39m \u001b[38;5;241m0\u001b[39m:\n\u001b[0;32m     19\u001b[0m         \u001b[38;5;28;01mraise\u001b[39;00m \u001b[38;5;167;01mValueError\u001b[39;00m(\u001b[38;5;124mf\u001b[39m\u001b[38;5;124m\"\u001b[39m\u001b[38;5;124mInvalid thread id: \u001b[39m\u001b[38;5;132;01m{\u001b[39;00mthread_id\u001b[38;5;132;01m}\u001b[39;00m\u001b[38;5;124m\"\u001b[39m)\n",
      "\u001b[1;31mTypeError\u001b[0m: 'NoneType' object cannot be interpreted as an integer"
     ]
    }
   ],
   "source": [
    "import pandas as pd\n",
    "import plotly.express as px\n",
    "from jupyter_dash import JupyterDash\n",
    "from dash import dcc, html, Input, Output, dash_table\n",
    "\n",
    "# Load data\n",
    "df = pd.read_csv('product_segmentation.csv')\n",
    "\n",
    "# Clean up cluster label if needed\n",
    "df['cluster_label'] = df['cluster_label'].astype(str)\n",
    "\n",
    "# Initialize the app\n",
    "app = JupyterDash(__name__)\n",
    "\n",
    "# App layout\n",
    "app.layout = html.Div([\n",
    "    html.H2(\"Product Segmentation Dashboard\", style={'textAlign': 'center'}),\n",
    "\n",
    "    dcc.Dropdown(\n",
    "        id='cluster-dropdown',\n",
    "        options=[{'label': label, 'value': label} for label in df['cluster_label'].unique()],\n",
    "        value=df['cluster_label'].unique()[0],\n",
    "        clearable=False,\n",
    "        style={'width': '50%', 'margin': 'auto'}\n",
    "    ),\n",
    "\n",
    "    html.Br(),\n",
    "\n",
    "    html.Div([\n",
    "        dash_table.DataTable(\n",
    "            id='product-table',\n",
    "            columns=[{\"name\": col, \"id\": col} for col in [\n",
    "                \"product_category_name\", \"total_sales_volume\", \"total_revenue\", \n",
    "                \"avg_review_score\", \"avg_delivery_delay\"\n",
    "            ]],\n",
    "            page_size=10,\n",
    "            style_table={'overflowX': 'auto'},\n",
    "            style_cell={'textAlign': 'left'},\n",
    "            style_header={'backgroundColor': '#f1f1f1', 'fontWeight': 'bold'},\n",
    "        )\n",
    "    ], style={'padding': '0px 30px'}),\n",
    "\n",
    "    html.Br(),\n",
    "\n",
    "    dcc.Graph(id='bar-chart')\n",
    "])\n",
    "\n",
    "# Callbacks\n",
    "@app.callback(\n",
    "    Output('product-table', 'data'),\n",
    "    Output('bar-chart', 'figure'),\n",
    "    Input('cluster-dropdown', 'value')\n",
    ")\n",
    "def update_dashboard(selected_cluster):\n",
    "    filtered_df = df[df['cluster_label'] == selected_cluster]\n",
    "\n",
    "    fig = px.bar(\n",
    "        filtered_df.nlargest(10, 'total_sales_volume'),\n",
    "        x='product_category_name',\n",
    "        y='total_sales_volume',\n",
    "        title=f\"Top 10 Products by Sales Volume in '{selected_cluster}'\",\n",
    "        labels={'total_sales_volume': 'Sales Volume', 'product_category_name': 'Product'},\n",
    "        text_auto=True\n",
    "    )\n",
    "\n",
    "    return filtered_df.to_dict('records'), fig\n",
    "\n",
    "# Run app in notebook\n",
    "app.run_server(mode='inline', debug=True)\n"
   ]
  },
  {
   "cell_type": "code",
   "execution_count": null,
   "id": "2c059591-10a0-4a80-95a5-aa6320b6a3ea",
   "metadata": {},
   "outputs": [],
   "source": []
  },
  {
   "cell_type": "code",
   "execution_count": null,
   "id": "ca9a9466-251b-4111-aeb1-2dbcf6b5490c",
   "metadata": {},
   "outputs": [],
   "source": []
  }
 ],
 "metadata": {
  "kernelspec": {
   "display_name": "Python 3 (ipykernel)",
   "language": "python",
   "name": "python3"
  },
  "language_info": {
   "codemirror_mode": {
    "name": "ipython",
    "version": 3
   },
   "file_extension": ".py",
   "mimetype": "text/x-python",
   "name": "python",
   "nbconvert_exporter": "python",
   "pygments_lexer": "ipython3",
   "version": "3.12.7"
  }
 },
 "nbformat": 4,
 "nbformat_minor": 5
}
