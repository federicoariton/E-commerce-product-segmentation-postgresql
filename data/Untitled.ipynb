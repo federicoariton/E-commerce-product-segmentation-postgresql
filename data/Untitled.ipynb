{
 "cells": [
  {
   "cell_type": "code",
   "execution_count": 3,
   "id": "228ca205-384e-41d0-a71a-8e00a9b919e4",
   "metadata": {},
   "outputs": [
    {
     "name": "stdout",
     "output_type": "stream",
     "text": [
      "                              review_id                          order_id  \\\n",
      "200    28642ce6250b94cc72bc85960aec6c62  e239d280236cdd3c40cb2c033f681d1c   \n",
      "344    a0a641414ff718ca079b3967ef5c2495  169d7e0fd71d624d306f132acd791cbe   \n",
      "346    f4d74b17cd63ee35efa82cd2567de911  f269e83a82f64baa3de97c2ebf3358f6   \n",
      "360    ecbaf1fce7d2c09bfab46f89065afeaf  2451b9756f310d4cff5c7987b393870d   \n",
      "393    6b1de94de0f4bd84dfc4136818242faa  92acf87839903a94aeca0e5040d99acb   \n",
      "...                                 ...                               ...   \n",
      "99108  2c6c08892b83ba4c1be33037c2842294  42ae1967f68c90bb325783ac55d761ce   \n",
      "99124  6ec93e77f444e0b1703740a69122e35d  e1fdc6e9d1ca132377e862593a7c0bd4   \n",
      "99164  2afe63a67dfd99b3038f568fb47ee761  c5334d330e36d2a810a7a13c72e135ee   \n",
      "99167  017808d29fd1f942d97e50184dfb4c13  b1461c8882153b5fe68307c46a506e39   \n",
      "99178  44d1e9165ec54b1d89d33594856af859  a7dbcf5043158d6fa72859eead2f3d10   \n",
      "\n",
      "       review_score review_comment_title  \\\n",
      "200               5                  NaN   \n",
      "344               5                  NaN   \n",
      "346               3                  NaN   \n",
      "360               5                  NaN   \n",
      "393               5                  NaN   \n",
      "...             ...                  ...   \n",
      "99108             4                  NaN   \n",
      "99124             5                  NaN   \n",
      "99164             5                  NaN   \n",
      "99167             5                  NaN   \n",
      "99178             4                  NaN   \n",
      "\n",
      "                                  review_comment_message review_creation_date  \\\n",
      "200                                                  NaN  2018-03-25 00:00:00   \n",
      "344                                                  NaN  2018-03-04 00:00:00   \n",
      "346    A embalagem deixou a desejar, por pouco o prod...  2018-01-12 00:00:00   \n",
      "360                                                  NaN  2017-07-27 00:00:00   \n",
      "393                                                  NaN  2018-02-16 00:00:00   \n",
      "...                                                  ...                  ...   \n",
      "99108  Chegou um pouco amassada, mas nada de mais, e ...  2017-07-03 00:00:00   \n",
      "99124              Vendedor compromisso do vou o cliente  2017-10-07 00:00:00   \n",
      "99164  Muito bom, produto conforme anunciado, entrega...  2018-03-03 00:00:00   \n",
      "99167                                                NaN  2018-03-02 00:00:00   \n",
      "99178                                                NaN  2017-05-24 00:00:00   \n",
      "\n",
      "      review_answer_timestamp  \n",
      "200       2018-03-25 21:03:02  \n",
      "344       2018-03-06 20:12:53  \n",
      "346       2018-01-13 18:46:10  \n",
      "360       2017-07-28 16:57:18  \n",
      "393       2018-02-19 19:04:21  \n",
      "...                       ...  \n",
      "99108     2017-07-05 19:06:59  \n",
      "99124     2017-10-07 19:47:11  \n",
      "99164     2018-03-04 22:56:47  \n",
      "99167     2018-03-05 01:43:30  \n",
      "99178     2017-05-24 23:15:21  \n",
      "\n",
      "[1603 rows x 7 columns]\n"
     ]
    }
   ],
   "source": [
    "import pandas as pd\n",
    "\n",
    "df = pd.read_csv(\"olist_order_reviews_dataset.csv\")\n",
    "duplicates = df[df.duplicated(subset='review_id', keep=False)]\n",
    "print(duplicates)\n"
   ]
  },
  {
   "cell_type": "code",
   "execution_count": 5,
   "id": "20c42acc-d170-4a41-810f-cde46558f092",
   "metadata": {},
   "outputs": [
    {
     "data": {
      "text/plain": [
       "(99224, 7)"
      ]
     },
     "execution_count": 5,
     "metadata": {},
     "output_type": "execute_result"
    }
   ],
   "source": [
    "df.shape"
   ]
  },
  {
   "cell_type": "code",
   "execution_count": 7,
   "id": "ce002eb7-f14b-439d-a2ab-18fa76d48e40",
   "metadata": {},
   "outputs": [],
   "source": [
    "df_cleaned = df.drop_duplicates(subset='review_id')\n",
    "df_cleaned.to_csv(\"olist_order_reviews_cleaned.csv\", index=False)\n"
   ]
  },
  {
   "cell_type": "code",
   "execution_count": null,
   "id": "a201eeaf-97a3-4c10-bb9b-744ea74c790d",
   "metadata": {},
   "outputs": [],
   "source": []
  }
 ],
 "metadata": {
  "kernelspec": {
   "display_name": "Python 3 (ipykernel)",
   "language": "python",
   "name": "python3"
  },
  "language_info": {
   "codemirror_mode": {
    "name": "ipython",
    "version": 3
   },
   "file_extension": ".py",
   "mimetype": "text/x-python",
   "name": "python",
   "nbconvert_exporter": "python",
   "pygments_lexer": "ipython3",
   "version": "3.12.7"
  }
 },
 "nbformat": 4,
 "nbformat_minor": 5
}
